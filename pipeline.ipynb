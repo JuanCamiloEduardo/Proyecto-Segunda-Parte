{
 "cells": [
  {
   "cell_type": "code",
   "execution_count": 1,
   "id": "21a8eeca",
   "metadata": {
    "scrolled": true
   },
   "outputs": [
    {
     "name": "stderr",
     "output_type": "stream",
     "text": [
      "[nltk_data] Downloading package omw-1.4 to\n",
      "[nltk_data]     C:\\Users\\Usuario\\AppData\\Roaming\\nltk_data...\n",
      "[nltk_data]   Package omw-1.4 is already up-to-date!\n",
      "[nltk_data] Downloading package averaged_perceptron_tagger to\n",
      "[nltk_data]     C:\\Users\\Usuario\\AppData\\Roaming\\nltk_data...\n",
      "[nltk_data]   Package averaged_perceptron_tagger is already up-to-\n",
      "[nltk_data]       date!\n",
      "[nltk_data] Downloading package punkt to\n",
      "[nltk_data]     C:\\Users\\Usuario\\AppData\\Roaming\\nltk_data...\n",
      "[nltk_data]   Package punkt is already up-to-date!\n",
      "[nltk_data] Downloading package stopwords to\n",
      "[nltk_data]     C:\\Users\\Usuario\\AppData\\Roaming\\nltk_data...\n",
      "[nltk_data]   Package stopwords is already up-to-date!\n",
      "[nltk_data] Downloading package wordnet to\n",
      "[nltk_data]     C:\\Users\\Usuario\\AppData\\Roaming\\nltk_data...\n",
      "[nltk_data]   Package wordnet is already up-to-date!\n",
      "[nltk_data] Downloading package cess_esp to\n",
      "[nltk_data]     C:\\Users\\Usuario\\AppData\\Roaming\\nltk_data...\n",
      "[nltk_data]   Package cess_esp is already up-to-date!\n"
     ]
    }
   ],
   "source": [
    "import pandas as pd\n",
    "import matplotlib.pyplot as plt\n",
    "import re\n",
    "import string  \n",
    "import nltk\n",
    "import scipy\n",
    "import math\n",
    "import numpy as np\n",
    "import seaborn as sns\n",
    "from joblib import dump\n",
    "nltk.download('omw-1.4')\n",
    "nltk.download('averaged_perceptron_tagger')\n",
    "nltk.download('punkt')\n",
    "from nltk import pos_tag\n",
    "nltk.download('stopwords')\n",
    "from nltk.corpus import stopwords\n",
    "nltk.download('wordnet')\n",
    "from nltk.stem.snowball import SnowballStemmer\n",
    "from nltk.corpus import cess_esp\n",
    "nltk.download('cess_esp')\n",
    "from nltk.corpus import wordnet\n",
    "import pickle as pkl\n",
    "from sklearn.naive_bayes import BernoulliNB, MultinomialNB\n",
    "from sklearn.feature_extraction.text import CountVectorizer , TfidfVectorizer\n",
    "from sklearn.ensemble import RandomForestClassifier\n",
    "from sklearn.metrics import confusion_matrix\n",
    "from sklearn.model_selection import train_test_split\n",
    "from sklearn.model_selection import cross_val_score\n",
    "from sklearn.model_selection import GridSearchCV\n",
    "from sklearn.preprocessing import StandardScaler\n",
    "from sklearn.metrics import roc_curve,auc\n",
    "from sklearn.feature_extraction.text import CountVectorizer\n",
    "from sklearn.svm import LinearSVC\n",
    "from sklearn.metrics import accuracy_score, precision_score, recall_score, f1_score, confusion_matrix,ConfusionMatrixDisplay\n",
    "from sklearn.pipeline import Pipeline\n",
    "from nltk.tokenize import word_tokenize"
   ]
  },
  {
   "cell_type": "code",
   "execution_count": 2,
   "id": "fe88e451",
   "metadata": {},
   "outputs": [
    {
     "data": {
      "text/html": [
       "<div>\n",
       "<style scoped>\n",
       "    .dataframe tbody tr th:only-of-type {\n",
       "        vertical-align: middle;\n",
       "    }\n",
       "\n",
       "    .dataframe tbody tr th {\n",
       "        vertical-align: top;\n",
       "    }\n",
       "\n",
       "    .dataframe thead th {\n",
       "        text-align: right;\n",
       "    }\n",
       "</style>\n",
       "<table border=\"1\" class=\"dataframe\">\n",
       "  <thead>\n",
       "    <tr style=\"text-align: right;\">\n",
       "      <th></th>\n",
       "      <th>Unnamed: 0</th>\n",
       "      <th>review_es</th>\n",
       "      <th>sentimiento</th>\n",
       "    </tr>\n",
       "  </thead>\n",
       "  <tbody>\n",
       "    <tr>\n",
       "      <th>0</th>\n",
       "      <td>0</td>\n",
       "      <td>Si está buscando una película de guerra típica...</td>\n",
       "      <td>positivo</td>\n",
       "    </tr>\n",
       "    <tr>\n",
       "      <th>1</th>\n",
       "      <td>1</td>\n",
       "      <td>Supongo que algunos directores de películas de...</td>\n",
       "      <td>positivo</td>\n",
       "    </tr>\n",
       "    <tr>\n",
       "      <th>2</th>\n",
       "      <td>2</td>\n",
       "      <td>Es difícil contarle más sobre esta película si...</td>\n",
       "      <td>positivo</td>\n",
       "    </tr>\n",
       "    <tr>\n",
       "      <th>3</th>\n",
       "      <td>3</td>\n",
       "      <td>La película comienza muy lentamente, con el es...</td>\n",
       "      <td>positivo</td>\n",
       "    </tr>\n",
       "    <tr>\n",
       "      <th>4</th>\n",
       "      <td>4</td>\n",
       "      <td>Esta película es verdadera acción en su máxima...</td>\n",
       "      <td>positivo</td>\n",
       "    </tr>\n",
       "  </tbody>\n",
       "</table>\n",
       "</div>"
      ],
      "text/plain": [
       "   Unnamed: 0                                          review_es sentimiento\n",
       "0           0  Si está buscando una película de guerra típica...    positivo\n",
       "1           1  Supongo que algunos directores de películas de...    positivo\n",
       "2           2  Es difícil contarle más sobre esta película si...    positivo\n",
       "3           3  La película comienza muy lentamente, con el es...    positivo\n",
       "4           4  Esta película es verdadera acción en su máxima...    positivo"
      ]
     },
     "execution_count": 2,
     "metadata": {},
     "output_type": "execute_result"
    }
   ],
   "source": [
    "# Creating a pandas dataframe from reviews.txt file\n",
    "df_tracks=pd.read_csv('MovieReviews.csv', sep=',', encoding = 'utf-8')\n",
    "df_tracks.head()"
   ]
  },
  {
   "cell_type": "code",
   "execution_count": 3,
   "id": "ef9217f6",
   "metadata": {},
   "outputs": [
    {
     "data": {
      "text/plain": [
       "<bound method DataFrame.info of       Unnamed: 0                                          review_es  \\\n",
       "0              0  Si está buscando una película de guerra típica...   \n",
       "1              1  Supongo que algunos directores de películas de...   \n",
       "2              2  Es difícil contarle más sobre esta película si...   \n",
       "3              3  La película comienza muy lentamente, con el es...   \n",
       "4              4  Esta película es verdadera acción en su máxima...   \n",
       "...          ...                                                ...   \n",
       "4995        4995  \"Criminal decente ordinario\" es triste porque ...   \n",
       "4996        4996  Savage Island (2003) es una película coja.Es m...   \n",
       "4997        4997  Quien escribió el script para esta película no...   \n",
       "4998        4998  in a TV-movie 70's kind of way It's one of tho...   \n",
       "4999        4999  Película decepcionante, predecible en la que u...   \n",
       "\n",
       "     sentimiento  \n",
       "0       positivo  \n",
       "1       positivo  \n",
       "2       positivo  \n",
       "3       positivo  \n",
       "4       positivo  \n",
       "...          ...  \n",
       "4995    negativo  \n",
       "4996    negativo  \n",
       "4997    negativo  \n",
       "4998    negativo  \n",
       "4999    negativo  \n",
       "\n",
       "[5000 rows x 3 columns]>"
      ]
     },
     "execution_count": 3,
     "metadata": {},
     "output_type": "execute_result"
    }
   ],
   "source": [
    "df_tracks.info"
   ]
  },
  {
   "cell_type": "markdown",
   "id": "10527226",
   "metadata": {},
   "source": [
    "# Analisis de Datos\n"
   ]
  },
  {
   "cell_type": "code",
   "execution_count": 4,
   "id": "1df8d66d",
   "metadata": {},
   "outputs": [
    {
     "data": {
      "image/png": "[encoded data removed]",
      "text/plain": [
       "<Figure size 640x480 with 1 Axes>"
      ]
     },
     "metadata": {},
     "output_type": "display_data"
    }
   ],
   "source": [
    "count = sns.countplot(data=df_tracks, x='sentimiento', order=df_tracks['sentimiento'].value_counts().index)\n",
    "plt.show()"
   ]
  },
  {
   "cell_type": "code",
   "execution_count": 5,
   "id": "a1e78c12",
   "metadata": {},
   "outputs": [
    {
     "data": {
      "text/html": [
       "<div>\n",
       "<style scoped>\n",
       "    .dataframe tbody tr th:only-of-type {\n",
       "        vertical-align: middle;\n",
       "    }\n",
       "\n",
       "    .dataframe tbody tr th {\n",
       "        vertical-align: top;\n",
       "    }\n",
       "\n",
       "    .dataframe thead th {\n",
       "        text-align: right;\n",
       "    }\n",
       "</style>\n",
       "<table border=\"1\" class=\"dataframe\">\n",
       "  <thead>\n",
       "    <tr style=\"text-align: right;\">\n",
       "      <th></th>\n",
       "      <th>Unnamed: 0</th>\n",
       "      <th>review_es</th>\n",
       "      <th>sentimiento</th>\n",
       "      <th>label</th>\n",
       "    </tr>\n",
       "  </thead>\n",
       "  <tbody>\n",
       "    <tr>\n",
       "      <th>0</th>\n",
       "      <td>0</td>\n",
       "      <td>Si está buscando una película de guerra típica...</td>\n",
       "      <td>positivo</td>\n",
       "      <td>1</td>\n",
       "    </tr>\n",
       "    <tr>\n",
       "      <th>1</th>\n",
       "      <td>1</td>\n",
       "      <td>Supongo que algunos directores de películas de...</td>\n",
       "      <td>positivo</td>\n",
       "      <td>1</td>\n",
       "    </tr>\n",
       "    <tr>\n",
       "      <th>2</th>\n",
       "      <td>2</td>\n",
       "      <td>Es difícil contarle más sobre esta película si...</td>\n",
       "      <td>positivo</td>\n",
       "      <td>1</td>\n",
       "    </tr>\n",
       "    <tr>\n",
       "      <th>3</th>\n",
       "      <td>3</td>\n",
       "      <td>La película comienza muy lentamente, con el es...</td>\n",
       "      <td>positivo</td>\n",
       "      <td>1</td>\n",
       "    </tr>\n",
       "    <tr>\n",
       "      <th>4</th>\n",
       "      <td>4</td>\n",
       "      <td>Esta película es verdadera acción en su máxima...</td>\n",
       "      <td>positivo</td>\n",
       "      <td>1</td>\n",
       "    </tr>\n",
       "  </tbody>\n",
       "</table>\n",
       "</div>"
      ],
      "text/plain": [
       "   Unnamed: 0                                          review_es sentimiento  \\\n",
       "0           0  Si está buscando una película de guerra típica...    positivo   \n",
       "1           1  Supongo que algunos directores de películas de...    positivo   \n",
       "2           2  Es difícil contarle más sobre esta película si...    positivo   \n",
       "3           3  La película comienza muy lentamente, con el es...    positivo   \n",
       "4           4  Esta película es verdadera acción en su máxima...    positivo   \n",
       "\n",
       "   label  \n",
       "0      1  \n",
       "1      1  \n",
       "2      1  \n",
       "3      1  \n",
       "4      1  "
      ]
     },
     "execution_count": 5,
     "metadata": {},
     "output_type": "execute_result"
    }
   ],
   "source": [
    "def label_to_number(label):\n",
    "    if label == \"positivo\":\n",
    "        return 1\n",
    "    else:\n",
    "        return 0\n",
    "df_tracks['label'] = df_tracks['sentimiento'].apply(label_to_number)\n",
    "df_tracks.head()\n"
   ]
  },
  {
   "cell_type": "code",
   "execution_count": 6,
   "id": "f63ee166",
   "metadata": {},
   "outputs": [
    {
     "data": {
      "text/html": [
       "<div>\n",
       "<style scoped>\n",
       "    .dataframe tbody tr th:only-of-type {\n",
       "        vertical-align: middle;\n",
       "    }\n",
       "\n",
       "    .dataframe tbody tr th {\n",
       "        vertical-align: top;\n",
       "    }\n",
       "\n",
       "    .dataframe thead th {\n",
       "        text-align: right;\n",
       "    }\n",
       "</style>\n",
       "<table border=\"1\" class=\"dataframe\">\n",
       "  <thead>\n",
       "    <tr style=\"text-align: right;\">\n",
       "      <th></th>\n",
       "      <th>count</th>\n",
       "      <th>mean</th>\n",
       "      <th>std</th>\n",
       "      <th>min</th>\n",
       "      <th>25%</th>\n",
       "      <th>50%</th>\n",
       "      <th>75%</th>\n",
       "      <th>max</th>\n",
       "    </tr>\n",
       "  </thead>\n",
       "  <tbody>\n",
       "    <tr>\n",
       "      <th>Unnamed: 0</th>\n",
       "      <td>5000.0</td>\n",
       "      <td>2499.5</td>\n",
       "      <td>1443.520003</td>\n",
       "      <td>0.0</td>\n",
       "      <td>1249.75</td>\n",
       "      <td>2499.5</td>\n",
       "      <td>3749.25</td>\n",
       "      <td>4999.0</td>\n",
       "    </tr>\n",
       "    <tr>\n",
       "      <th>label</th>\n",
       "      <td>5000.0</td>\n",
       "      <td>0.5</td>\n",
       "      <td>0.500050</td>\n",
       "      <td>0.0</td>\n",
       "      <td>0.00</td>\n",
       "      <td>0.5</td>\n",
       "      <td>1.00</td>\n",
       "      <td>1.0</td>\n",
       "    </tr>\n",
       "  </tbody>\n",
       "</table>\n",
       "</div>"
      ],
      "text/plain": [
       "             count    mean          std  min      25%     50%      75%     max\n",
       "Unnamed: 0  5000.0  2499.5  1443.520003  0.0  1249.75  2499.5  3749.25  4999.0\n",
       "label       5000.0     0.5     0.500050  0.0     0.00     0.5     1.00     1.0"
      ]
     },
     "execution_count": 6,
     "metadata": {},
     "output_type": "execute_result"
    }
   ],
   "source": [
    "df_tracks.describe().T"
   ]
  },
  {
   "cell_type": "code",
   "execution_count": 7,
   "id": "a700924f",
   "metadata": {},
   "outputs": [
    {
     "data": {
      "text/plain": [
       "0       1\n",
       "1       1\n",
       "2       1\n",
       "3       1\n",
       "4       1\n",
       "       ..\n",
       "4995    0\n",
       "4996    0\n",
       "4997    0\n",
       "4998    0\n",
       "4999    0\n",
       "Name: label, Length: 5000, dtype: int64"
      ]
     },
     "execution_count": 7,
     "metadata": {},
     "output_type": "execute_result"
    }
   ],
   "source": [
    "df_tracks['label']"
   ]
  },
  {
   "cell_type": "markdown",
   "id": "ec3971c3",
   "metadata": {},
   "source": [
    "# Limpieza, Tokens y Lematizacion\n"
   ]
  },
  {
   "cell_type": "code",
   "execution_count": 8,
   "id": "d70e4e60",
   "metadata": {},
   "outputs": [
    {
     "data": {
      "text/html": [
       "<div>\n",
       "<style scoped>\n",
       "    .dataframe tbody tr th:only-of-type {\n",
       "        vertical-align: middle;\n",
       "    }\n",
       "\n",
       "    .dataframe tbody tr th {\n",
       "        vertical-align: top;\n",
       "    }\n",
       "\n",
       "    .dataframe thead th {\n",
       "        text-align: right;\n",
       "    }\n",
       "</style>\n",
       "<table border=\"1\" class=\"dataframe\">\n",
       "  <thead>\n",
       "    <tr style=\"text-align: right;\">\n",
       "      <th></th>\n",
       "      <th>Unnamed: 0</th>\n",
       "      <th>review_es</th>\n",
       "      <th>sentimiento</th>\n",
       "      <th>label</th>\n",
       "      <th>Clean Review</th>\n",
       "    </tr>\n",
       "  </thead>\n",
       "  <tbody>\n",
       "    <tr>\n",
       "      <th>0</th>\n",
       "      <td>0</td>\n",
       "      <td>Si está buscando una película de guerra típica...</td>\n",
       "      <td>positivo</td>\n",
       "      <td>1</td>\n",
       "      <td>si está buscando una película de guerra típica...</td>\n",
       "    </tr>\n",
       "    <tr>\n",
       "      <th>1</th>\n",
       "      <td>1</td>\n",
       "      <td>Supongo que algunos directores de películas de...</td>\n",
       "      <td>positivo</td>\n",
       "      <td>1</td>\n",
       "      <td>supongo que algunos directores de películas de...</td>\n",
       "    </tr>\n",
       "    <tr>\n",
       "      <th>2</th>\n",
       "      <td>2</td>\n",
       "      <td>Es difícil contarle más sobre esta película si...</td>\n",
       "      <td>positivo</td>\n",
       "      <td>1</td>\n",
       "      <td>es difícil contarle más sobre esta película si...</td>\n",
       "    </tr>\n",
       "    <tr>\n",
       "      <th>3</th>\n",
       "      <td>3</td>\n",
       "      <td>La película comienza muy lentamente, con el es...</td>\n",
       "      <td>positivo</td>\n",
       "      <td>1</td>\n",
       "      <td>la película comienza muy lentamente con el est...</td>\n",
       "    </tr>\n",
       "    <tr>\n",
       "      <th>4</th>\n",
       "      <td>4</td>\n",
       "      <td>Esta película es verdadera acción en su máxima...</td>\n",
       "      <td>positivo</td>\n",
       "      <td>1</td>\n",
       "      <td>esta película es verdadera acción en su máxima...</td>\n",
       "    </tr>\n",
       "  </tbody>\n",
       "</table>\n",
       "</div>"
      ],
      "text/plain": [
       "   Unnamed: 0                                          review_es sentimiento  \\\n",
       "0           0  Si está buscando una película de guerra típica...    positivo   \n",
       "1           1  Supongo que algunos directores de películas de...    positivo   \n",
       "2           2  Es difícil contarle más sobre esta película si...    positivo   \n",
       "3           3  La película comienza muy lentamente, con el es...    positivo   \n",
       "4           4  Esta película es verdadera acción en su máxima...    positivo   \n",
       "\n",
       "   label                                       Clean Review  \n",
       "0      1  si está buscando una película de guerra típica...  \n",
       "1      1  supongo que algunos directores de películas de...  \n",
       "2      1  es difícil contarle más sobre esta película si...  \n",
       "3      1  la película comienza muy lentamente con el est...  \n",
       "4      1  esta película es verdadera acción en su máxima...  "
      ]
     },
     "execution_count": 8,
     "metadata": {},
     "output_type": "execute_result"
    }
   ],
   "source": [
    "def clean_text(text):\n",
    "    \"\"\"\n",
    "    Limpia el texto eliminando signos de puntuación, números y palabras vacías.\n",
    "    \"\"\"\n",
    "    text = text.lower() # Convertir todo el texto a minúsculas\n",
    "    text = re.sub('\\[.*?\\]', '', text) # Eliminar cualquier cosa entre corchetes\n",
    "    text = re.sub('[%s]' % re.escape(string.punctuation), '', text) # Eliminar signos de puntuación\n",
    "    text = re.sub('\\w*\\d\\w*', '', text) # Eliminar cualquier número\n",
    "    text = re.sub('[‘’“”…]', '', text) # Eliminar comillas\n",
    "    text = re.sub('\\n', '', text) # Eliminar saltos de línea\n",
    "    return text\n",
    "df_tracks['Clean Review'] = df_tracks['review_es'].apply(clean_text)\n",
    "df_tracks.head()"
   ]
  },
  {
   "cell_type": "code",
   "execution_count": 9,
   "id": "3c341869",
   "metadata": {},
   "outputs": [
    {
     "data": {
      "text/html": [
       "<div>\n",
       "<style scoped>\n",
       "    .dataframe tbody tr th:only-of-type {\n",
       "        vertical-align: middle;\n",
       "    }\n",
       "\n",
       "    .dataframe tbody tr th {\n",
       "        vertical-align: top;\n",
       "    }\n",
       "\n",
       "    .dataframe thead th {\n",
       "        text-align: right;\n",
       "    }\n",
       "</style>\n",
       "<table border=\"1\" class=\"dataframe\">\n",
       "  <thead>\n",
       "    <tr style=\"text-align: right;\">\n",
       "      <th></th>\n",
       "      <th>Unnamed: 0</th>\n",
       "      <th>review_es</th>\n",
       "      <th>sentimiento</th>\n",
       "      <th>label</th>\n",
       "      <th>Clean Review</th>\n",
       "    </tr>\n",
       "  </thead>\n",
       "  <tbody>\n",
       "    <tr>\n",
       "      <th>0</th>\n",
       "      <td>0</td>\n",
       "      <td>Si está buscando una película de guerra típica...</td>\n",
       "      <td>positivo</td>\n",
       "      <td>1</td>\n",
       "      <td>si buscando película guerra típica así nota af...</td>\n",
       "    </tr>\n",
       "    <tr>\n",
       "      <th>1</th>\n",
       "      <td>1</td>\n",
       "      <td>Supongo que algunos directores de películas de...</td>\n",
       "      <td>positivo</td>\n",
       "      <td>1</td>\n",
       "      <td>supongo directores películas lujo sentados bus...</td>\n",
       "    </tr>\n",
       "    <tr>\n",
       "      <th>2</th>\n",
       "      <td>2</td>\n",
       "      <td>Es difícil contarle más sobre esta película si...</td>\n",
       "      <td>positivo</td>\n",
       "      <td>1</td>\n",
       "      <td>difícil contarle película estropearlalo disfru...</td>\n",
       "    </tr>\n",
       "    <tr>\n",
       "      <th>3</th>\n",
       "      <td>3</td>\n",
       "      <td>La película comienza muy lentamente, con el es...</td>\n",
       "      <td>positivo</td>\n",
       "      <td>1</td>\n",
       "      <td>película comienza lentamente estilo vida walla...</td>\n",
       "    </tr>\n",
       "    <tr>\n",
       "      <th>4</th>\n",
       "      <td>4</td>\n",
       "      <td>Esta película es verdadera acción en su máxima...</td>\n",
       "      <td>positivo</td>\n",
       "      <td>1</td>\n",
       "      <td>película verdadera acción máxima expresión mej...</td>\n",
       "    </tr>\n",
       "  </tbody>\n",
       "</table>\n",
       "</div>"
      ],
      "text/plain": [
       "   Unnamed: 0                                          review_es sentimiento  \\\n",
       "0           0  Si está buscando una película de guerra típica...    positivo   \n",
       "1           1  Supongo que algunos directores de películas de...    positivo   \n",
       "2           2  Es difícil contarle más sobre esta película si...    positivo   \n",
       "3           3  La película comienza muy lentamente, con el es...    positivo   \n",
       "4           4  Esta película es verdadera acción en su máxima...    positivo   \n",
       "\n",
       "   label                                       Clean Review  \n",
       "0      1  si buscando película guerra típica así nota af...  \n",
       "1      1  supongo directores películas lujo sentados bus...  \n",
       "2      1  difícil contarle película estropearlalo disfru...  \n",
       "3      1  película comienza lentamente estilo vida walla...  \n",
       "4      1  película verdadera acción máxima expresión mej...  "
      ]
     },
     "execution_count": 9,
     "metadata": {},
     "output_type": "execute_result"
    }
   ],
   "source": [
    "def remove_stopwords(text):\n",
    "    \"\"\"\n",
    "    Elimina las palabras vacías del texto.\n",
    "    \"\"\"\n",
    "    stop_words = set(stopwords.words('spanish'))\n",
    "    tokens = nltk.word_tokenize(text)\n",
    "    tokens = [token.strip() for token in tokens]\n",
    "    filtered_tokens = [token for token in tokens if token.lower() not in stop_words]\n",
    "    filtered_text = ' '.join(filtered_tokens)\n",
    "    return filtered_text\n",
    "\n",
    "df_tracks['Clean Review'] = df_tracks['Clean Review'].apply(remove_stopwords)\n",
    "df_tracks.head()"
   ]
  },
  {
   "cell_type": "code",
   "execution_count": 10,
   "id": "18776f33",
   "metadata": {},
   "outputs": [],
   "source": [
    "def tokenize_text(text):\n",
    "    \"\"\"\n",
    "    Tokeniza el texto.\n",
    "    \"\"\"\n",
    "    tokens = nltk.word_tokenize(text)\n",
    "    tokens = [token.strip() for token in tokens]\n",
    "    return tokens\n",
    "\n",
    "#df_tracks['Clean Review'] = df_tracks['Clean Review'].apply(tokenize_text)\n",
    "#df_tracks.head()"
   ]
  },
  {
   "cell_type": "code",
   "execution_count": 11,
   "id": "c95ce537",
   "metadata": {},
   "outputs": [
    {
     "data": {
      "text/html": [
       "<div>\n",
       "<style scoped>\n",
       "    .dataframe tbody tr th:only-of-type {\n",
       "        vertical-align: middle;\n",
       "    }\n",
       "\n",
       "    .dataframe tbody tr th {\n",
       "        vertical-align: top;\n",
       "    }\n",
       "\n",
       "    .dataframe thead th {\n",
       "        text-align: right;\n",
       "    }\n",
       "</style>\n",
       "<table border=\"1\" class=\"dataframe\">\n",
       "  <thead>\n",
       "    <tr style=\"text-align: right;\">\n",
       "      <th></th>\n",
       "      <th>Unnamed: 0</th>\n",
       "      <th>review_es</th>\n",
       "      <th>sentimiento</th>\n",
       "      <th>label</th>\n",
       "      <th>Clean Review</th>\n",
       "    </tr>\n",
       "  </thead>\n",
       "  <tbody>\n",
       "    <tr>\n",
       "      <th>0</th>\n",
       "      <td>0</td>\n",
       "      <td>Si está buscando una película de guerra típica...</td>\n",
       "      <td>positivo</td>\n",
       "      <td>1</td>\n",
       "      <td>si buscando película guerra típica así nota af...</td>\n",
       "    </tr>\n",
       "    <tr>\n",
       "      <th>1</th>\n",
       "      <td>1</td>\n",
       "      <td>Supongo que algunos directores de películas de...</td>\n",
       "      <td>positivo</td>\n",
       "      <td>1</td>\n",
       "      <td>supongo director película lujo sentado buscand...</td>\n",
       "    </tr>\n",
       "    <tr>\n",
       "      <th>2</th>\n",
       "      <td>2</td>\n",
       "      <td>Es difícil contarle más sobre esta película si...</td>\n",
       "      <td>positivo</td>\n",
       "      <td>1</td>\n",
       "      <td>difícil contarl película estropearlalo disfrut...</td>\n",
       "    </tr>\n",
       "    <tr>\n",
       "      <th>3</th>\n",
       "      <td>3</td>\n",
       "      <td>La película comienza muy lentamente, con el es...</td>\n",
       "      <td>positivo</td>\n",
       "      <td>1</td>\n",
       "      <td>película comienza lentament estilo vida wallac...</td>\n",
       "    </tr>\n",
       "    <tr>\n",
       "      <th>4</th>\n",
       "      <td>4</td>\n",
       "      <td>Esta película es verdadera acción en su máxima...</td>\n",
       "      <td>positivo</td>\n",
       "      <td>1</td>\n",
       "      <td>película verdadera acción máxima expresión mej...</td>\n",
       "    </tr>\n",
       "  </tbody>\n",
       "</table>\n",
       "</div>"
      ],
      "text/plain": [
       "   Unnamed: 0                                          review_es sentimiento  \\\n",
       "0           0  Si está buscando una película de guerra típica...    positivo   \n",
       "1           1  Supongo que algunos directores de películas de...    positivo   \n",
       "2           2  Es difícil contarle más sobre esta película si...    positivo   \n",
       "3           3  La película comienza muy lentamente, con el es...    positivo   \n",
       "4           4  Esta película es verdadera acción en su máxima...    positivo   \n",
       "\n",
       "   label                                       Clean Review  \n",
       "0      1  si buscando película guerra típica así nota af...  \n",
       "1      1  supongo director película lujo sentado buscand...  \n",
       "2      1  difícil contarl película estropearlalo disfrut...  \n",
       "3      1  película comienza lentament estilo vida wallac...  \n",
       "4      1  película verdadera acción máxima expresión mej...  "
      ]
     },
     "execution_count": 11,
     "metadata": {},
     "output_type": "execute_result"
    }
   ],
   "source": [
    "def snowball_lemmatize(text):\n",
    "    stemmer = SnowballStemmer(language='english')\n",
    "    tokens = word_tokenize(text)\n",
    "    lemmatized_text = [stemmer.stem(token) for token in tokens]\n",
    "    return ' '.join(lemmatized_text)\n",
    "\n",
    "df_tracks['Clean Review'] = df_tracks['Clean Review'].apply(snowball_lemmatize)\n",
    "df_tracks.head()"
   ]
  },
  {
   "cell_type": "code",
   "execution_count": 12,
   "id": "a4b5483b",
   "metadata": {},
   "outputs": [],
   "source": [
    "def lematizar_lista_textos(textos):\n",
    "    \"\"\"\n",
    "    Esta función toma una lista de textos en español como entrada y devuelve una lista de listas de palabras lematizadas\n",
    "    \"\"\"\n",
    "    stemmer = SnowballStemmer('spanish')\n",
    "    lemas = []\n",
    "    for texto in textos:\n",
    "        lemas_texto = stemmer.stem(texto) \n",
    "        lemas.append(lemas_texto)\n",
    "    return lemas\n",
    "\n"
   ]
  },
  {
   "cell_type": "markdown",
   "id": "93165429",
   "metadata": {},
   "source": [
    "# Preparacion Datos"
   ]
  },
  {
   "cell_type": "code",
   "execution_count": 13,
   "id": "fe811e19",
   "metadata": {},
   "outputs": [
    {
     "name": "stdout",
     "output_type": "stream",
     "text": [
      "(5000, 10000)\n"
     ]
    }
   ],
   "source": [
    "vectorizer = TfidfVectorizer(max_df=1200, min_df=2, max_features=10000, ngram_range=(1,2))\n",
    "X_count = vectorizer.fit_transform(df_tracks['Clean Review'])\n",
    "print(X_count.shape)\n",
    "#cambio = [' '.join(doc)  for doc in df_tracks['Clean Review']]\n",
    "#print(cambio)"
   ]
  },
  {
   "cell_type": "code",
   "execution_count": 14,
   "id": "d61e68d2",
   "metadata": {},
   "outputs": [],
   "source": [
    "#X = vectorizer.fit_transform(cambio)\n",
    "#X_prueba=vectorizer.fit_transform(X_prueba)\n",
    "\n",
    "y = df_tracks['label']\n",
    "\n"
   ]
  },
  {
   "cell_type": "code",
   "execution_count": 15,
   "id": "56d2c94a",
   "metadata": {},
   "outputs": [],
   "source": [
    "X_train, X_test, y_train, y_test = train_test_split(X_count, y, test_size=0.2, random_state=42)"
   ]
  },
  {
   "cell_type": "markdown",
   "id": "5e6cf090",
   "metadata": {},
   "source": [
    "# Aplicacion del metodo SVM Linear\n"
   ]
  },
  {
   "cell_type": "code",
   "execution_count": 16,
   "id": "b3f847d1",
   "metadata": {},
   "outputs": [],
   "source": [
    "svm = LinearSVC()\n",
    "svc_classifier=svm.fit(X_train, y_train)"
   ]
  },
  {
   "cell_type": "code",
   "execution_count": 17,
   "id": "a7e19009",
   "metadata": {},
   "outputs": [],
   "source": [
    "y_train_svm_predict = svm.predict(X_train)\n",
    "y_test_svm_predict = svm.predict(X_test)"
   ]
  },
  {
   "cell_type": "code",
   "execution_count": 18,
   "id": "62cd23fe",
   "metadata": {},
   "outputs": [
    {
     "data": {
      "text/plain": [
       "<sklearn.metrics._plot.confusion_matrix.ConfusionMatrixDisplay at 0x22e90c3e7f0>"
      ]
     },
     "execution_count": 18,
     "metadata": {},
     "output_type": "execute_result"
    },
    {
     "data": {
      "image/png": "[encoded data removed]",
      "text/plain": [
       "<Figure size 640x480 with 2 Axes>"
      ]
     },
     "metadata": {},
     "output_type": "display_data"
    }
   ],
   "source": [
    "ConfusionMatrixDisplay.from_predictions(y_train, y_train_svm_predict)"
   ]
  },
  {
   "cell_type": "code",
   "execution_count": 19,
   "id": "c46655d1",
   "metadata": {},
   "outputs": [
    {
     "data": {
      "text/plain": [
       "<sklearn.metrics._plot.confusion_matrix.ConfusionMatrixDisplay at 0x22ea41d07c0>"
      ]
     },
     "execution_count": 19,
     "metadata": {},
     "output_type": "execute_result"
    },
    {
     "data": {
      "image/png": "[encoded data removed]",
      "text/plain": [
       "<Figure size 640x480 with 2 Axes>"
      ]
     },
     "metadata": {},
     "output_type": "display_data"
    }
   ],
   "source": [
    "ConfusionMatrixDisplay.from_predictions(y_test, y_test_svm_predict)"
   ]
  },
  {
   "cell_type": "code",
   "execution_count": 20,
   "id": "1f3860db",
   "metadata": {},
   "outputs": [],
   "source": [
    "pipeline = Pipeline([\n",
    "    ('vectorizer', vectorizer),\n",
    "    ('model', svm)\n",
    "])\n"
   ]
  },
  {
   "cell_type": "code",
   "execution_count": 21,
   "id": "bcdde48b",
   "metadata": {},
   "outputs": [],
   "source": [
    "rutaPipeline =  \"pipeline.pkl\"\n",
    "with open(rutaPipeline, 'wb') as file:\n",
    "    pkl.dump(pipeline, file)"
   ]
  },
  {
   "cell_type": "code",
   "execution_count": 22,
   "id": "a1dddbd2",
   "metadata": {},
   "outputs": [],
   "source": [
    "svc_y_pred=svc_classifier.predict(X_test)\n",
    "svc_cm=confusion_matrix(y_test,svc_y_pred)\n",
    "svc_accuracy = accuracy_score(y_test, svc_y_pred)\n",
    "svc_precision = precision_score(y_test, svc_y_pred)\n",
    "svc_recall = recall_score(y_test, svc_y_pred)\n",
    "svc_f1_score = f1_score(y_test, svc_y_pred)"
   ]
  },
  {
   "cell_type": "code",
   "execution_count": 23,
   "id": "bdce038c",
   "metadata": {},
   "outputs": [
    {
     "name": "stdout",
     "output_type": "stream",
     "text": [
      "Accuracy of Support-Vector-Machine is 82%\n",
      "Precision of Support-Vector-Machine is 80%\n",
      "Recall of Support-Vector-Machine is 86%\n",
      "F1_score of Support-Vector-Machine is 83%\n"
     ]
    }
   ],
   "source": [
    "print(\"Accuracy of Support-Vector-Machine is {}%\".format(math.floor(svc_accuracy*100)))\n",
    "print(\"Precision of Support-Vector-Machine is {}%\".format(math.floor(svc_precision*100)))\n",
    "print(\"Recall of Support-Vector-Machine is {}%\".format(math.floor(svc_recall*100)))\n",
    "print(\"F1_score of Support-Vector-Machine is {}%\".format(math.floor(svc_f1_score*100)))"
   ]
  },
  {
   "cell_type": "code",
   "execution_count": null,
   "id": "7485ec0d",
   "metadata": {},
   "outputs": [],
   "source": []
  }
 ],
 "metadata": {
  "kernelspec": {
   "display_name": "Python 3 (ipykernel)",
   "language": "python",
   "name": "python3"
  },
  "language_info": {
   "codemirror_mode": {
    "name": "ipython",
    "version": 3
   },
   "file_extension": ".py",
   "mimetype": "text/x-python",
   "name": "python",
   "nbconvert_exporter": "python",
   "pygments_lexer": "ipython3",
   "version": "3.9.13"
  }
 },
 "nbformat": 4,
 "nbformat_minor": 5
}
